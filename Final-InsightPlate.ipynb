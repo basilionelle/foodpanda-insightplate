{
 "cells": [
  {
   "cell_type": "code",
   "execution_count": null,
   "id": "12ce7ad4",
   "metadata": {
    "cellUniqueIdByVincent": "c87ca"
   },
   "outputs": [],
   "source": [
    "#!/usr/bin/env python3\n",
    "# -*- coding: utf-8 -*-\n"
   ]
  },
  {
   "cell_type": "markdown",
   "id": "90f8cb72",
   "metadata": {
    "cellUniqueIdByVincent": "98675"
   },
   "source": [
    "# 🍽️ FoodPanda InsightPlate: Restaurant Analytics Dashboard\n",
    "## Data-Driven Dining Decisions in the Philippines\n",
    "\n",
    "This script provides data visualization and analysis of FoodPanda restaurant data\n",
    "across Philippine cities. It can be run directly or converted to a Jupyter notebook."
   ]
  },
  {
   "cell_type": "code",
   "execution_count": null,
   "id": "22032fda",
   "metadata": {
    "cellUniqueIdByVincent": "3c0c0"
   },
   "outputs": [],
   "source": [
    "\n",
    "# Import required libraries\n",
    "import pandas as pd\n",
    "import matplotlib.pyplot as plt\n",
    "import seaborn as sns\n",
    "from matplotlib.gridspec import GridSpec\n"
   ]
  },
  {
   "cell_type": "code",
   "execution_count": null,
   "id": "1147b004",
   "metadata": {
    "cellUniqueIdByVincent": "3146b"
   },
   "outputs": [],
   "source": [
    "def setup_visualization_style():\n",
    "    \"\"\"Set up the visualization style for consistent, clean plots.\"\"\"\n",
    "    plt.style.use('seaborn')\n",
    "    plt.rcParams['figure.figsize'] = [12, 8]\n",
    "    plt.rcParams['font.size'] = 12\n"
   ]
  },
  {
   "cell_type": "code",
   "execution_count": null,
   "id": "fbc875aa",
   "metadata": {
    "cellUniqueIdByVincent": "687c1"
   },
   "outputs": [],
   "source": [
    "def load_and_clean_data():\n",
    "    \"\"\"Load and clean the FoodPanda restaurant datasets.\"\"\"\n",
    "    # Load the datasets\n",
    "    restos = pd.read_csv('restos.csv')\n",
    "    restos_2025 = pd.read_csv('restos_2025.csv')\n",
    "\n",
    "    # Clean restos dataset\n",
    "    # Convert Reviewers column from string format (e.g., \"(100+)\") to numeric\n",
    "    restos['Reviewers'] = restos['Reviewers'].str.replace(r'[()+]', '', regex=True)\n",
    "    restos['Reviewers'] = pd.to_numeric(restos['Reviewers'], errors='coerce').fillna(0)\n",
    "\n",
    "    # Drop unnecessary columns from restos\n",
    "    restos = restos.drop(columns=['StoreName', 'Location'])\n",
    "\n",
    "    # Merge datasets\n",
    "    restos_df = pd.concat([restos, restos_2025], ignore_index=True)\n",
    "\n",
    "    # Clean merged dataset\n",
    "    restos_df = restos_df.dropna(subset=['FoodType'])\n",
    "    restos_df = restos_df.drop_duplicates()\n",
    "\n",
    "    # Standardize city names\n",
    "    restos_df['City'] = restos_df['City'].str.title()\n",
    "    \n",
    "    return restos_df\n"
   ]
  },
  {
   "cell_type": "code",
   "execution_count": null,
   "id": "aa2389e3",
   "metadata": {
    "cellUniqueIdByVincent": "5fec4"
   },
   "outputs": [],
   "source": [
    "def print_basic_statistics(df):\n",
    "    \"\"\"Print basic statistics about the dataset.\"\"\"\n",
    "    print(\"\\n=== Dataset Overview ===\")\n",
    "    print(\"-\" * 25)\n",
    "    print(f\"Total number of restaurants: {len(df)}\")\n",
    "    print(f\"Number of cities: {df['City'].nunique()}\")\n",
    "    print(f\"Number of cuisine types: {df['FoodType'].nunique()}\")\n",
    "    print(\"\\nTop 10 Cities by Number of Restaurants:\")\n",
    "    print(\"-\" * 25)\n",
    "    print(df['City'].value_counts().head(10))\n"
   ]
  },
  {
   "cell_type": "code",
   "execution_count": null,
   "id": "a97f5b73",
   "metadata": {
    "cellUniqueIdByVincent": "05b2b"
   },
   "outputs": [],
   "source": [
    "def plot_rating_distribution(df):\n",
    "    \"\"\"Create visualizations for rating distribution analysis.\"\"\"\n",
    "    plt.figure(figsize=(15, 10))\n",
    "    gs = GridSpec(2, 2)\n",
    "\n",
    "    # Plot 1: Overall Rating Distribution\n",
    "    plt.subplot(gs[0, 0])\n",
    "    sns.histplot(data=df, x='AverageRating', bins=20)\n",
    "    plt.title('Distribution of Restaurant Ratings')\n",
    "    plt.xlabel('Average Rating')\n",
    "    plt.ylabel('Number of Restaurants')\n",
    "\n",
    "    # Plot 2: Top Cities by Average Rating\n",
    "    plt.subplot(gs[0, 1])\n",
    "    city_ratings = df.groupby('City')['AverageRating'].mean().sort_values(ascending=False)\n",
    "    city_ratings.head(10).plot(kind='bar')\n",
    "    plt.title('Top 10 Cities by Average Rating')\n",
    "    plt.xticks(rotation=45)\n",
    "    plt.xlabel('City')\n",
    "    plt.ylabel('Average Rating')\n",
    "\n",
    "    # Plot 3: Top Cuisine Types\n",
    "    plt.subplot(gs[1, :])\n",
    "    cuisine_counts = df['FoodType'].value_counts().head(15)\n",
    "    cuisine_counts.plot(kind='bar')\n",
    "    plt.title('Top 15 Most Common Cuisine Types')\n",
    "    plt.xticks(rotation=45)\n",
    "    plt.xlabel('Cuisine Type')\n",
    "    plt.ylabel('Number of Restaurants')\n",
    "\n",
    "    plt.tight_layout()\n",
    "    plt.show()\n"
   ]
  },
  {
   "cell_type": "code",
   "execution_count": null,
   "id": "24b2cac4",
   "metadata": {
    "cellUniqueIdByVincent": "95e32"
   },
   "outputs": [],
   "source": [
    "def plot_review_analysis(df):\n",
    "    \"\"\"Create visualizations for review volume analysis.\"\"\"\n",
    "    plt.figure(figsize=(15, 10))\n",
    "    gs = GridSpec(2, 2)\n",
    "\n",
    "    # Plot 1: Review Volume Distribution\n",
    "    plt.subplot(gs[0, 0])\n",
    "    sns.histplot(data=df[df['Reviewers'] < df['Reviewers'].quantile(0.95)], \n",
    "                x='Reviewers', bins=50)\n",
    "    plt.title('Distribution of Review Volumes\\n(excluding outliers)')\n",
    "    plt.xlabel('Number of Reviews')\n",
    "    plt.ylabel('Number of Restaurants')\n",
    "\n",
    "    # Plot 2: Top Cities by Total Reviews\n",
    "    plt.subplot(gs[0, 1])\n",
    "    city_reviews = df.groupby('City')['Reviewers'].sum().sort_values(ascending=False)\n",
    "    city_reviews.head(10).plot(kind='bar')\n",
    "    plt.title('Top 10 Cities by Total Reviews')\n",
    "    plt.xticks(rotation=45)\n",
    "    plt.xlabel('City')\n",
    "    plt.ylabel('Total Reviews')\n",
    "\n",
    "    # Plot 3: Rating vs Reviews Scatter Plot\n",
    "    plt.subplot(gs[1, :])\n",
    "    plt.scatter(df['Reviewers'], df['AverageRating'], alpha=0.5)\n",
    "    plt.title('Relationship between Number of Reviews and Average Rating')\n",
    "    plt.xlabel('Number of Reviews')\n",
    "    plt.ylabel('Average Rating')\n",
    "\n",
    "    plt.tight_layout()\n",
    "    plt.show()\n"
   ]
  },
  {
   "cell_type": "code",
   "execution_count": null,
   "id": "adf3eefd",
   "metadata": {
    "cellUniqueIdByVincent": "64346"
   },
   "outputs": [],
   "source": [
    "def plot_cuisine_analysis(df):\n",
    "    \"\"\"Create visualizations for cuisine type analysis.\"\"\"\n",
    "    # Get top 10 cuisine types\n",
    "    top_cuisines = df['FoodType'].value_counts().head(10).index\n",
    "    cuisine_data = df[df['FoodType'].isin(top_cuisines)]\n",
    "\n",
    "    plt.figure(figsize=(15, 10))\n",
    "    gs = GridSpec(2, 1, height_ratios=[2, 1])\n",
    "\n",
    "    # Plot 1: Box plot of ratings by cuisine type\n",
    "    plt.subplot(gs[0])\n",
    "    sns.boxplot(data=cuisine_data, x='FoodType', y='AverageRating')\n",
    "    plt.title('Rating Distribution by Cuisine Type')\n",
    "    plt.xticks(rotation=45)\n",
    "    plt.xlabel('Cuisine Type')\n",
    "    plt.ylabel('Average Rating')\n",
    "\n",
    "    # Plot 2: Average reviews by cuisine type\n",
    "    plt.subplot(gs[1])\n",
    "    cuisine_reviews = cuisine_data.groupby('FoodType')['Reviewers'].mean().sort_values(ascending=False)\n",
    "    cuisine_reviews.plot(kind='bar')\n",
    "    plt.title('Average Number of Reviews by Cuisine Type')\n",
    "    plt.xticks(rotation=45)\n",
    "    plt.xlabel('Cuisine Type')\n",
    "    plt.ylabel('Average Number of Reviews')\n",
    "\n",
    "    plt.tight_layout()\n",
    "    plt.show()\n"
   ]
  },
  {
   "cell_type": "code",
   "execution_count": null,
   "id": "8bdfe52d",
   "metadata": {
    "cellUniqueIdByVincent": "638ef"
   },
   "outputs": [],
   "source": [
    "def print_conclusions(df):\n",
    "    \"\"\"Generate and print conclusions from the analysis.\"\"\"\n",
    "    top_cities = df.groupby('City').size().sort_values(ascending=False).head(3)\n",
    "    top_rated_cities = df.groupby('City')['AverageRating'].mean().sort_values(ascending=False).head(3)\n",
    "    top_cuisines = df['FoodType'].value_counts().head(3)\n",
    "    top_rated_cuisines = df.groupby('FoodType')['AverageRating'].mean().sort_values(ascending=False).head(3)\n",
    "\n",
    "    print(\"\\n=== Key Insights from the Analysis ===\")\n",
    "    print(\"-\" * 35)\n",
    "    print(\"\\n1. City Analysis:\")\n",
    "    print(f\"   - Top cities by number of restaurants: {', '.join(top_cities.index)}\")\n",
    "    print(f\"   - Highest rated cities: {', '.join(top_rated_cities.index)}\")\n",
    "    \n",
    "    print(\"\\n2. Cuisine Analysis:\")\n",
    "    print(f\"   - Most common cuisine types: {', '.join(top_cuisines.index)}\")\n",
    "    print(f\"   - Highest rated cuisine types: {', '.join(top_rated_cuisines.index)}\")\n",
    "    \n",
    "    print(\"\\n3. Rating Patterns:\")\n",
    "    print(f\"   - Average rating across all restaurants: {df['AverageRating'].mean():.2f}\")\n",
    "    print(f\"   - Median number of reviews: {df['Reviewers'].median():.0f}\")\n"
   ]
  },
  {
   "cell_type": "code",
   "execution_count": null,
   "id": "45075553",
   "metadata": {
    "cellUniqueIdByVincent": "a0a00"
   },
   "outputs": [],
   "source": [
    "def main():\n",
    "    \"\"\"Main function to run the analysis.\"\"\"\n",
    "    # Setup\n",
    "    setup_visualization_style()\n",
    "    \n",
    "    # Load and process data\n",
    "    df = load_and_clean_data()\n",
    "    \n",
    "    # Generate insights\n",
    "    print_basic_statistics(df)\n",
    "    plot_rating_distribution(df)\n",
    "    plot_review_analysis(df)\n",
    "    plot_cuisine_analysis(df)\n",
    "    print_conclusions(df)\n"
   ]
  },
  {
   "cell_type": "code",
   "execution_count": null,
   "id": "5e275259",
   "metadata": {
    "cellUniqueIdByVincent": "5c50d"
   },
   "outputs": [],
   "source": [
    "if __name__ == \"__main__\":\n",
    "    main()\n"
   ]
  }
 ],
 "metadata": {
  "language_info": {
   "name": "python"
  }
 },
 "nbformat": 4,
 "nbformat_minor": 5
}
